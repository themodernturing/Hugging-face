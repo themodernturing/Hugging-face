{
  "cells": [
    {
      "cell_type": "markdown",
      "metadata": {
        "id": "view-in-github",
        "colab_type": "text"
      },
      "source": [
        "<a href=\"https://colab.research.google.com/github/themodernturing/Hugging-face/blob/main/Hugging_Face_Chatbot_'blenderbot_400M_distill.ipynb\" target=\"_parent\"><img src=\"https://colab.research.google.com/assets/colab-badge.svg\" alt=\"Open In Colab\"/></a>"
      ]
    },
    {
      "cell_type": "markdown",
      "metadata": {
        "id": "kN0Q7449GkC6"
      },
      "source": [
        "Natural Language Processing (NLP)"
      ]
    },
    {
      "cell_type": "markdown",
      "metadata": {
        "id": "Q1pwzW8PGkC7"
      },
      "source": [
        "- If you would like to run this code on your own machine, you can install the following:\n",
        "```\n",
        "    !pip install transformers\n",
        "```"
      ]
    },
    {
      "cell_type": "markdown",
      "metadata": {
        "id": "oNE3kwOcGkC8"
      },
      "source": [
        "### Build the `chatbot` pipeline using 🤗 Transformers Library"
      ]
    },
    {
      "cell_type": "markdown",
      "metadata": {
        "id": "PMCIUV0ZGkC8"
      },
      "source": [
        "- Here is some code that suppresses warning messages."
      ]
    },
    {
      "cell_type": "code",
      "execution_count": null,
      "metadata": {
        "height": 47,
        "id": "gyipf4sJGkC9"
      },
      "outputs": [],
      "source": [
        "from transformers.utils import logging\n",
        "logging.set_verbosity_error()"
      ]
    },
    {
      "cell_type": "code",
      "execution_count": null,
      "metadata": {
        "height": 30,
        "id": "Cc1Jim5KGkC9"
      },
      "outputs": [],
      "source": [
        "from transformers import pipeline"
      ]
    },
    {
      "cell_type": "code",
      "source": [
        "# Load model directly\n",
        "from transformers import AutoTokenizer, AutoModelForSeq2SeqLM\n",
        "\n",
        "tokenizer = AutoTokenizer.from_pretrained(\"facebook/blenderbot-400M-distill\")\n",
        "model = AutoModelForSeq2SeqLM.from_pretrained(\"facebook/blenderbot-400M-distill\")"
      ],
      "metadata": {
        "id": "Ted7d_nfGnT9",
        "colab": {
          "base_uri": "https://localhost:8080/"
        },
        "outputId": "a56c4b40-19d5-468c-829b-619fc7871f5e"
      },
      "execution_count": null,
      "outputs": [
        {
          "output_type": "stream",
          "name": "stderr",
          "text": [
            "/usr/local/lib/python3.10/dist-packages/huggingface_hub/utils/_token.py:89: UserWarning: \n",
            "The secret `HF_TOKEN` does not exist in your Colab secrets.\n",
            "To authenticate with the Hugging Face Hub, create a token in your settings tab (https://huggingface.co/settings/tokens), set it as secret in your Google Colab and restart your session.\n",
            "You will be able to reuse this secret in all of your notebooks.\n",
            "Please note that authentication is recommended but still optional to access public models or datasets.\n",
            "  warnings.warn(\n"
          ]
        }
      ]
    },
    {
      "cell_type": "markdown",
      "metadata": {
        "id": "UfYEVxanGkC-"
      },
      "source": [
        "- Define the conversation pipeline"
      ]
    },
    {
      "cell_type": "code",
      "execution_count": null,
      "metadata": {
        "height": 47,
        "id": "MdEsqvDAGkC-",
        "collapsed": true
      },
      "outputs": [],
      "source": [
        "chatbot = pipeline(task=\"conversational\",\n",
        "                   model=\"facebook/blenderbot-400M-distill\")"
      ]
    },
    {
      "cell_type": "markdown",
      "metadata": {
        "id": "FIuh-aucGkC-"
      },
      "source": [
        "Info about ['blenderbot-400M-distill'](https://huggingface.co/facebook/blenderbot-400M-distill)"
      ]
    },
    {
      "cell_type": "code",
      "execution_count": null,
      "metadata": {
        "height": 64,
        "id": "h3Ze5gXoGkC_"
      },
      "outputs": [],
      "source": [
        "user_message = \"\"\"\n",
        "What are some fun activities I can do in the winter?\n",
        "\"\"\""
      ]
    },
    {
      "cell_type": "code",
      "execution_count": null,
      "metadata": {
        "height": 30,
        "id": "NbPy0_4dGkC_"
      },
      "outputs": [],
      "source": [
        "#!pip install transformers==4.41.2 # Install transformers version 4.41. becuase Conversation is obly available in transformers==4.41.2\n",
        "\n",
        "from transformers import Conversation # Import Conversation object"
      ]
    },
    {
      "cell_type": "code",
      "execution_count": null,
      "metadata": {
        "height": 30,
        "id": "24A4t_cVGkC_"
      },
      "outputs": [],
      "source": [
        "conversation = Conversation(user_message)"
      ]
    },
    {
      "cell_type": "code",
      "execution_count": null,
      "metadata": {
        "height": 30,
        "id": "aOlf_RGSGkDA",
        "colab": {
          "base_uri": "https://localhost:8080/"
        },
        "outputId": "5e01ba5d-2c8c-46c9-c4e5-0ce7f1d6f3c5"
      },
      "outputs": [
        {
          "output_type": "stream",
          "name": "stdout",
          "text": [
            "Conversation id: 814723c9-dac5-4440-9ffb-46bcf50c3554\n",
            "user: \n",
            "What are some fun activities I can do in the winter?\n",
            "\n",
            "\n"
          ]
        }
      ],
      "source": [
        "print(conversation)"
      ]
    },
    {
      "cell_type": "code",
      "execution_count": null,
      "metadata": {
        "height": 30,
        "id": "TLvrlL_JGkDA"
      },
      "outputs": [],
      "source": [
        "conversation = chatbot(conversation)"
      ]
    },
    {
      "cell_type": "code",
      "execution_count": null,
      "metadata": {
        "height": 30,
        "id": "dckzhYECGkDA",
        "colab": {
          "base_uri": "https://localhost:8080/"
        },
        "outputId": "a9d71aa2-cbca-4892-8d97-7193249341c9"
      },
      "outputs": [
        {
          "output_type": "stream",
          "name": "stdout",
          "text": [
            "Conversation id: 814723c9-dac5-4440-9ffb-46bcf50c3554\n",
            "user: \n",
            "What are some fun activities I can do in the winter?\n",
            "\n",
            "assistant:  I like snowboarding and skiing.  What do you like to do in winter?\n",
            "assistant:  Snowboarding is a lot of fun. I like to ski and snowboard.\n",
            "assistant:  I like both of those activities as well.  Do you have a favorite place to go?\n",
            "\n"
          ]
        }
      ],
      "source": [
        "print(conversation)"
      ]
    },
    {
      "cell_type": "markdown",
      "metadata": {
        "id": "Mvvb1fgmGkDB"
      },
      "source": [
        "- You can continue the conversation with the chatbot with:\n",
        "```\n",
        "print(chatbot(Conversation(\"What else do you recommend?\")))\n",
        "```\n",
        "- However, the chatbot may provide an unrelated response because it does not have memory of any prior conversations.\n",
        "\n",
        "- To include prior conversations in the LLM's context, you can add a 'message' to include the previous chat history."
      ]
    },
    {
      "cell_type": "code",
      "execution_count": null,
      "metadata": {
        "height": 115,
        "id": "VKos9O5OGkDB"
      },
      "outputs": [],
      "source": [
        "conversation.add_message(\n",
        "    {\"role\": \"user\",\n",
        "     \"content\": \"\"\"\n",
        "What else do you recommend?\n",
        "\"\"\"\n",
        "    })"
      ]
    },
    {
      "cell_type": "code",
      "execution_count": null,
      "metadata": {
        "height": 30,
        "id": "TOa6-BIoGkDB",
        "colab": {
          "base_uri": "https://localhost:8080/"
        },
        "outputId": "d8bc4fa9-345c-4775-ab13-5247c93be4d3"
      },
      "outputs": [
        {
          "output_type": "stream",
          "name": "stdout",
          "text": [
            "Conversation id: 814723c9-dac5-4440-9ffb-46bcf50c3554\n",
            "user: \n",
            "What are some fun activities I can do in the winter?\n",
            "\n",
            "assistant:  I like snowboarding and skiing.  What do you like to do in winter?\n",
            "assistant:  Snowboarding is a lot of fun. I like to ski and snowboard.\n",
            "assistant:  I like both of those activities as well.  Do you have a favorite place to go?\n",
            "user: \n",
            "What else do you recommend?\n",
            "\n",
            "\n"
          ]
        }
      ],
      "source": [
        "print(conversation)"
      ]
    },
    {
      "cell_type": "code",
      "execution_count": null,
      "metadata": {
        "height": 64,
        "id": "wHMXWwgAGkDC",
        "colab": {
          "base_uri": "https://localhost:8080/"
        },
        "outputId": "73f7bf68-daa9-4309-9fc1-b3a0549355ce"
      },
      "outputs": [
        {
          "output_type": "stream",
          "name": "stdout",
          "text": [
            "Conversation id: 814723c9-dac5-4440-9ffb-46bcf50c3554\n",
            "user: \n",
            "What are some fun activities I can do in the winter?\n",
            "\n",
            "assistant:  I like snowboarding and skiing.  What do you like to do in winter?\n",
            "assistant:  Snowboarding is a lot of fun. I like to ski and snowboard.\n",
            "assistant:  I like both of those activities as well.  Do you have a favorite place to go?\n",
            "user: \n",
            "What else do you recommend?\n",
            "\n",
            "assistant:  I like going to the beach in the summer.  It's so much fun.\n",
            "\n"
          ]
        }
      ],
      "source": [
        "conversation = chatbot(conversation)\n",
        "\n",
        "print(conversation)"
      ]
    },
    {
      "cell_type": "markdown",
      "metadata": {
        "id": "ODmWSVcNGkDC"
      },
      "source": [
        "### Try it yourself!\n",
        "- Try chatting with the model!"
      ]
    },
    {
      "cell_type": "code",
      "execution_count": null,
      "metadata": {
        "height": 30,
        "id": "bZS_3GvjGkDC"
      },
      "outputs": [],
      "source": []
    }
  ],
  "metadata": {
    "colab": {
      "provenance": [],
      "include_colab_link": true
    },
    "kernelspec": {
      "display_name": "Python 3 (ipykernel)",
      "language": "python",
      "name": "python3"
    },
    "language_info": {
      "codemirror_mode": {
        "name": "ipython",
        "version": 3
      },
      "file_extension": ".py",
      "mimetype": "text/x-python",
      "name": "python",
      "nbconvert_exporter": "python",
      "pygments_lexer": "ipython3",
      "version": "3.9.19"
    }
  },
  "nbformat": 4,
  "nbformat_minor": 0
}